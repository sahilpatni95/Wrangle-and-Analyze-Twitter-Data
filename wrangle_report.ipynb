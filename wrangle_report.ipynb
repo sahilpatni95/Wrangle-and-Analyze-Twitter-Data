{
 "cells": [
  {
   "cell_type": "markdown",
   "metadata": {},
   "source": [
    "# Wrangle and Analyze Data\n"
   ]
  },
  {
   "cell_type": "markdown",
   "metadata": {},
   "source": [
    "## Introduction\n",
    "\n",
    "This project focused on wrangling data from the WeRateDogs Twitter account using Python, documented in a Jupyter Notebook (wrangle_act.ipynb). This Twitter account rates dogs with humorous commentary. The rating denominator is usually 10, however, the numerators are usually greater than 10. They’re Good Dogs Brent wrangle WeRateDogs Twitter data to create interesting and trustworthy analyses and visualizations. WeRateDogs has over 4 million followers and has received international media coverage.\n",
    "\n",
    "WeRateDogs downloaded their Twitter archive and sent it to Udacity via email exclusively for us to use in this project. This archive contains basic tweet data (tweet ID, timestamp, text, etc.) for all 5000+ of their tweets as they stood on August 1, 2017.\n",
    "\n",
    "The goal of this project is to wrangle the WeRateDogs Twitter data to create interesting and trustworthy analyses and visualizations. The challenge lies in the fact that the Twitter archive is great, but it only contains very basic tweet information that comes in JSON format. I needed to gather, asses and clean the Twitter data for a worthy analysis and visualization.\n",
    "The Data\n",
    "\n",
    "### Enhanced Twitter Archive\n",
    "\n",
    "The WeRateDogs Twitter archive contains basic tweet data for all 5000+ of their tweets, but not everything. One column the archive does contain though: each tweet's text, which I used to extract rating, dog name, and dog \"stage\" (i.e. doggo, floofer, pupper, and puppo) to make this Twitter archive \"enhanced.\".We manually downloaded this file manually by clicking the following link: twitter_archive_enhanced.csv\n",
    "\n",
    "### Image Predictions File\n",
    "\n",
    "The tweet image predictions, i.e., what breed of dog (or other object, animal, etc.) is present in each tweet according to a neural network. This file (image_predictions.tsv) hosted on Udacity's servers and we downloaded it programmatically using python Requests library on the following (URL of the file: https://d17h27t6h515a5.cloudfront.net/topher/2017/August/599fd2ad_image-predictions/image-predictions.tsv)\n",
    "\n",
    "### Twitter API\n",
    "\n",
    "Back to the basic-ness of Twitter archives: retweet count and favorite count are two of the notable column omissions. Fortunately, this additional data can be gathered by anyone from Twitter's API. Well, \"anyone\" who has access to data for the 3000 most recent tweets, at least. But we, because we have the WeRateDogs Twitter archive and specifically the tweet IDs within it, can gather this data for all 5000+. And guess what? We're going to query Twitter's API to gather this valuable data.\n",
    "Key Points\n",
    "\n",
    "Before we start, herea are few points to keep in mind when data wrangling for this project:\n",
    "\n",
    "* We only want original ratings (no retweets) that have images. Though there are 5000+ tweets in the dataset, not all are dog ratings and some are retweets.\n",
    "\n",
    "* Fully assessing and cleaning the entire dataset requires exceptional effort so only a subset of its issues (eight (8) quality issues and two (2) tidiness issues at minimum) need to be assessed and cleaned.\n",
    "\n",
    "* Cleaning includes merging individual pieces of data according to the rules of tidy data.\n",
    "\n",
    "* The fact that the rating numerators are greater than the denominators does not need to be cleaned. This unique rating system is a big part of the popularity of WeRateDogs."
   ]
  },
  {
   "cell_type": "markdown",
   "metadata": {},
   "source": [
    "## Quality Issues\n",
    "\n",
    "#### - Twitter-archive-enhanced dataset (df):\n",
    "\n",
    "    * Missing data in the following columns: in_reply_to_status_id, in_reply_to_user_id,\n",
    "    retweeted_status_id, retweeted_status_user_id, retweeted_status_timestamp, expanded_urls \n",
    "    * This dataset includes retweets, which means there is duplicated data \n",
    "    * Timestamp and retweeted_status_timestamp is an object \n",
    "    * The source column still has the HTML tags \n",
    "    * Dogs name have 'None', or 'a', or 'an.' and some more lower case words as names \n",
    "    * Multiple dog stages occurs such as 'doggo puppo', 'doggo pupper', 'doggo floofer' \n",
    "\n",
    "#### - Tweet image predictions datasets (image_df):\n",
    "\n",
    "    * Dog breeds are not consistently in p1,p2,p3 columns \n",
    "\n",
    "#### - Tweet-json dataset (df_tweet_json):\n",
    "\n",
    "    * Missing data \n",
    "    * tweet_id is an object \n"
   ]
  },
  {
   "cell_type": "markdown",
   "metadata": {},
   "source": [
    "## Tidiness Issues\n",
    "\n",
    "#### - Twitter-archive-enhanced dataset (df):\n",
    "\n",
    "    * The variable for the dog's stage (dogoo, floofer, pupper, puppo) is spread in different columns\n",
    "\n",
    "#### - Tweet image predictions datasets (image_df):\n",
    "\n",
    "    * This data set is part of the same observational unit as the data in the archive_df \n",
    "\n",
    "#### - Tweet-json dataset (df_tweet_json):\n",
    "\n",
    "    * This data set is also part of the same observational unit as the data in the archive_df "
   ]
  },
  {
   "cell_type": "markdown",
   "metadata": {},
   "source": [
    "## Cleaning Data\n",
    "\n",
    "    1)The pred_breed column is created based on the the confidence level of minimum 20% and 'p1_dog', 'p2_dog' and 'p3_dog' statements\n",
    "    2)Based on dog types: doggo, floofer, pupper, puppo, 'doggo, puppo', 'doggo, pupper', 'doggo, floofer', only one categorical column is created named as 'stage'\n",
    "    3)tweet_id is set as object type as it is not going to use for calculation.\n",
    "    4)A Master dataframe is created using df_clean, image_df_clean, and tweet_json_clean dataframes\n",
    "    5)Dog Names Issue got rectified\n",
    "    6)Inconsistency in pred_breed got removed\n",
    "    7)All retweets get deleted to get unique tweets\n",
    "    8)The columns such as in_reply_to_status_id, in_reply_to_user_id, retweeted_status_id, retweeted_status_user_id, and retweeted_status_timestamp is removed which is not needed\n",
    "    9)Timestamp format got corrected to datetime format\n",
    "    10)Extra HTML tags from source column get refracted\n",
    "    11)Standardize dog ratings"
   ]
  },
  {
   "cell_type": "code",
   "execution_count": null,
   "metadata": {},
   "outputs": [],
   "source": []
  }
 ],
 "metadata": {
  "kernelspec": {
   "display_name": "Python 3",
   "language": "python",
   "name": "python3"
  },
  "language_info": {
   "codemirror_mode": {
    "name": "ipython",
    "version": 3
   },
   "file_extension": ".py",
   "mimetype": "text/x-python",
   "name": "python",
   "nbconvert_exporter": "python",
   "pygments_lexer": "ipython3",
   "version": "3.7.6"
  }
 },
 "nbformat": 4,
 "nbformat_minor": 4
}
